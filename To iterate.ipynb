{
 "cells": [
  {
   "cell_type": "code",
   "execution_count": 34,
   "id": "08ca8d41",
   "metadata": {},
   "outputs": [],
   "source": [
    "import pandas as pd \n",
    "df= pd.read_excel(r'C:\\Users\\6075759\\OneDrive - Thomson Reuters Incorporated\\Desktop\\E4U_MKE_20230802_AO.xlsx', sheet_name='code')\n",
    "#print(df)"
   ]
  },
  {
   "cell_type": "code",
   "execution_count": 35,
   "id": "ccdf22db",
   "metadata": {},
   "outputs": [],
   "source": [
    "df1 = pd.read_excel(r'C:\\Users\\6075759\\OneDrive - Thomson Reuters Incorporated\\Desktop\\E4U_MKE_20230802_AO.xlsx', sheet_name='descr')\n",
    "#print(df1)"
   ]
  },
  {
   "cell_type": "code",
   "execution_count": 14,
   "id": "3d959da2",
   "metadata": {},
   "outputs": [],
   "source": [
    "#excel = df1.loc[:,\"Unnamed: 1\"]\n",
    "#print(excel)"
   ]
  },
  {
   "cell_type": "code",
   "execution_count": 15,
   "id": "66628f2c",
   "metadata": {},
   "outputs": [],
   "source": [
    "#hs = df.loc[:,\"HS\"]\n",
    "#print(hs)"
   ]
  },
  {
   "cell_type": "code",
   "execution_count": 36,
   "id": "11e2ba65",
   "metadata": {},
   "outputs": [],
   "source": [
    "conc = df.merge(df1, left_on='Hscode', right_on=\"Hscode\")\n",
    "#print(conc)"
   ]
  },
  {
   "cell_type": "code",
   "execution_count": 37,
   "id": "e3b4b4ca",
   "metadata": {},
   "outputs": [
    {
     "name": "stdout",
     "output_type": "stream",
     "text": [
      "     Hscode     Unnamed: 1                                       Unnamed: 1_y  \\\n",
      "0         1  Фуснота 03006  Доколку декларираната стока одговара на услови...   \n",
      "1         2  Фуснота 03006  Доколку декларираната стока одговара на услови...   \n",
      "2         3  Фуснота 03006  Доколку декларираната стока одговара на услови...   \n",
      "3         4  Фуснота 03006  Доколку декларираната стока одговара на услови...   \n",
      "4         5  Фуснота 03006  Доколку декларираната стока одговара на услови...   \n",
      "..      ...            ...                                                ...   \n",
      "776     777  Фуснота 03006  Доколку декларираната стока одговара на услови...   \n",
      "777     778  Фуснота 03006  Доколку декларираната стока одговара на услови...   \n",
      "778     779  Фуснота 03006  Доколку декларираната стока одговара на услови...   \n",
      "779     780  Фуснота 03006  Доколку декларираната стока одговара на услови...   \n",
      "780     781  Фуснота 03006  Доколку декларираната стока одговара на услови...   \n",
      "\n",
      "        Unnamed: 2                                       Unnamed: 2_y  \n",
      "0              NaN                                                NaN  \n",
      "1              NaN                                                NaN  \n",
      "2              NaN                                                NaN  \n",
      "3              NaN                                                NaN  \n",
      "4              NaN                                                NaN  \n",
      "..             ...                                                ...  \n",
      "776            NaN                                                NaN  \n",
      "777  Фуснота 08036     Со ширина или дијаметар што не надминува 50 мм  \n",
      "778  Фуснота 08037                               Непревлечени со кожа  \n",
      "779  Фуснота 08039  Делови од производи од тар. подброј 9405 10 ил...  \n",
      "780  Фуснота 08003     Погодни за спроведување на гасови или течности  \n",
      "\n",
      "[781 rows x 5 columns]\n",
      "3\n"
     ]
    }
   ],
   "source": [
    "num_of_col = int(len(df.columns))\n",
    "\n",
    "new_df = pd.DataFrame(df[\"Hscode\"])\n",
    "\n",
    "for i in range(num_of_col-1):\n",
    "    new_df = pd.merge(new_df, df.iloc[:,[0,i+1]], how=\"outer\")\n",
    "    new_df = pd.merge(new_df, conc.iloc[:,[0,num_of_col+i]],how=\"outer\")\n",
    "#new_df = pd.merge(new_df, df.iloc[:,[0,2]], how=\"outer\")\n",
    "#new_df = pd.merge(new_df, conc.iloc[:,[0,num_of_col+1]],how=\"outer\")\n",
    "\n",
    "# new_df = pd.merge(new_df, df.iloc[:,0:2], how=\"outer\")\n",
    "# new_df = pd.merge(new_df, df1.iloc[:,[0,2]],how=\"outer\")\n",
    "    \n",
    "print(new_df)\n",
    "print(num_of_col)\n",
    "\n",
    "    #conc_reord = df1.iloc[:, [i+1]].copy()\n",
    "    \n",
    "    \n",
    "#conc_reord = conc[[\"HS\",str(\"Unnamed: )+str(i+1)+str(_x\"),str(\"Unnamed: )+str(i+1)+str(_y\")]]"
   ]
  },
  {
   "cell_type": "code",
   "execution_count": 38,
   "id": "23bb40eb",
   "metadata": {},
   "outputs": [],
   "source": [
    "new_df.to_excel(r'C:\\Users\\6075759\\OneDrive - Thomson Reuters Incorporated\\Desktop\\MK_formatted.xlsx', index=False)"
   ]
  },
  {
   "cell_type": "code",
   "execution_count": null,
   "id": "f11496ca",
   "metadata": {},
   "outputs": [],
   "source": []
  },
  {
   "cell_type": "code",
   "execution_count": null,
   "id": "e6228d84",
   "metadata": {},
   "outputs": [],
   "source": []
  }
 ],
 "metadata": {
  "kernelspec": {
   "display_name": "Python 3 (ipykernel)",
   "language": "python",
   "name": "python3"
  },
  "language_info": {
   "codemirror_mode": {
    "name": "ipython",
    "version": 3
   },
   "file_extension": ".py",
   "mimetype": "text/x-python",
   "name": "python",
   "nbconvert_exporter": "python",
   "pygments_lexer": "ipython3",
   "version": "3.10.9"
  }
 },
 "nbformat": 4,
 "nbformat_minor": 5
}
